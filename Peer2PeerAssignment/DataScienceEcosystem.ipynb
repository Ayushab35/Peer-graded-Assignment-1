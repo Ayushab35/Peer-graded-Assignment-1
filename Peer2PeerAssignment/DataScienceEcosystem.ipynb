{
 "cells": [
  {
   "cell_type": "markdown",
   "id": "98c807f3",
   "metadata": {},
   "source": [
    "# Data Science Tools and Ecosystem"
   ]
  },
  {
   "cell_type": "markdown",
   "id": "0c8a101f",
   "metadata": {},
   "source": [
    "In this notebook, Data Science Tools and Ecosystem are summarized."
   ]
  },
  {
   "cell_type": "markdown",
   "id": "0e1d603a",
   "metadata": {},
   "source": [
    "<b>Objectives : </b>\n",
    " - List popular languages for Data Science\n",
    " - Some of the commonly used libraries used by Data Scientists\n",
    " - evaluating arithmetic expressions in Python"
   ]
  },
  {
   "cell_type": "markdown",
   "id": "ba891e85",
   "metadata": {},
   "source": [
    "Some of the popular languages that Data Scientists use are:\n",
    "1. Python\n",
    "2. R"
   ]
  },
  {
   "cell_type": "markdown",
   "id": "e2be7f4c",
   "metadata": {},
   "source": [
    "Some of the commonly used libraries used by Data Scientists include:\n",
    " 1. Numpy\n",
    " 2. TensorFlow\n",
    " 3. Pandas"
   ]
  },
  {
   "cell_type": "markdown",
   "id": "da36e51b",
   "metadata": {},
   "source": [
    "| Data science tools |\n",
    "|--------------------|\n",
    "|  Jupyter Notebook  |\n",
    "|    RStudio         |\n",
    "|    Apache Zeppelin |"
   ]
  },
  {
   "cell_type": "markdown",
   "id": "db4adf86",
   "metadata": {},
   "source": [
    "<h3>Below are a few examples of evaluating arithmetic expressions in Python</h3>"
   ]
  },
  {
   "cell_type": "code",
   "execution_count": 6,
   "id": "77b5ce59",
   "metadata": {},
   "outputs": [
    {
     "data": {
      "text/plain": [
       "17"
      ]
     },
     "execution_count": 6,
     "metadata": {},
     "output_type": "execute_result"
    }
   ],
   "source": [
    "#This a simple arithmetic expression to mutiply then add integers\n",
    "(3*4)+5"
   ]
  },
  {
   "cell_type": "code",
   "execution_count": 11,
   "id": "b3e624ae",
   "metadata": {},
   "outputs": [
    {
     "data": {
      "text/plain": [
       "3.3333333333333335"
      ]
     },
     "execution_count": 11,
     "metadata": {},
     "output_type": "execute_result"
    }
   ],
   "source": [
    "#This will convert 200 minutes to hours by diving by 60\n",
    "200/60"
   ]
  },
  {
   "cell_type": "markdown",
   "id": "be60e370",
   "metadata": {},
   "source": [
    "<h2>Ayush Bhandarkar</h2>"
   ]
  },
  {
   "cell_type": "code",
   "execution_count": null,
   "id": "de713d3b",
   "metadata": {},
   "outputs": [],
   "source": []
  }
 ],
 "metadata": {
  "kernelspec": {
   "display_name": "Python 3 (ipykernel)",
   "language": "python",
   "name": "python3"
  },
  "language_info": {
   "codemirror_mode": {
    "name": "ipython",
    "version": 3
   },
   "file_extension": ".py",
   "mimetype": "text/x-python",
   "name": "python",
   "nbconvert_exporter": "python",
   "pygments_lexer": "ipython3",
   "version": "3.9.7"
  }
 },
 "nbformat": 4,
 "nbformat_minor": 5
}
